{
  "cells": [
    {
      "cell_type": "code",
      "execution_count": null,
      "metadata": {
        "colab": {
          "base_uri": "https://localhost:8080/"
        },
        "id": "UxqP2hIeSwC0",
        "outputId": "b6533ea5-5028-411b-e94d-dcd78f3f29a8"
      },
      "outputs": [
        {
          "name": "stdout",
          "output_type": "stream",
          "text": [
            "Requirement already satisfied: opencv-contrib-python in /usr/local/lib/python3.10/dist-packages (4.8.0.76)\n",
            "Requirement already satisfied: numpy>=1.21.2 in /usr/local/lib/python3.10/dist-packages (from opencv-contrib-python) (1.25.2)\n"
          ]
        }
      ],
      "source": [
        "!pip install opencv-contrib-python"
      ]
    },
    {
      "cell_type": "code",
      "execution_count": null,
      "metadata": {
        "colab": {
          "base_uri": "https://localhost:8080/",
          "height": 106
        },
        "id": "h2PWb5t2QcGe",
        "outputId": "adbb4e29-547a-4710-9aa4-3f94c6d531d3"
      },
      "outputs": [
        {
          "ename": "SyntaxError",
          "evalue": "invalid syntax (<ipython-input-4-87fbab636517>, line 32)",
          "output_type": "error",
          "traceback": [
            "\u001b[0;36m  File \u001b[0;32m\"<ipython-input-4-87fbab636517>\"\u001b[0;36m, line \u001b[0;32m32\u001b[0m\n\u001b[0;31m    python good_matches = [cv2.DMatch(m.queryIdx, m.trainIdx, m.distance) for m in good_matches]\u001b[0m\n\u001b[0m           ^\u001b[0m\n\u001b[0;31mSyntaxError\u001b[0m\u001b[0;31m:\u001b[0m invalid syntax\n"
          ]
        }
      ],
      "source": [
        "# prompt: open cv code using sift algorithm to match images\n",
        "\n",
        "import cv2\n",
        "import numpy as np\n",
        "\n",
        "# Read the two images\n",
        "img1 = cv2.imread('/content/1709200300564.jpg')\n",
        "img2 = cv2.imread('/content/1709200300596.jpg')\n",
        "\n",
        "# Convert the images to grayscale\n",
        "gray1 = cv2.cvtColor(img1, cv2.COLOR_BGR2GRAY)\n",
        "gray2 = cv2.cvtColor(img2, cv2.COLOR_BGR2GRAY)\n",
        "\n",
        "# Initialize the SIFT feature extractor\n",
        "sift = cv2.SIFT_create()\n",
        "\n",
        "# Detect and extract features from the first image\n",
        "kp1, des1 = sift.detectAndCompute(gray1, None)\n",
        "\n",
        "# Detect and extract features from the second image\n",
        "kp2, des2 = sift.detectAndCompute(gray2, None)\n",
        "\n",
        "# Match the features between the two images\n",
        "bf = cv2.BFMatcher()\n",
        "matches = bf.knnMatch(des1, des2, k=2)\n",
        "\n",
        "# Sort the matches by their distance\n",
        "good_matches = []\n",
        "for m, n in matches:\n",
        "    if m.distance < 0.75 * n.distance:\n",
        "        good_matches.append(m)\n",
        "\n",
        "\n",
        "# Draw the matches between the two images\n",
        "img3 = cv2.drawMatchesKnn(img1, kp1, img2, kp2, good_matches, None, flags=cv2.DrawMatchesFlags_DRAW_RICH_KEYPOINTS)\n",
        "# Show the matched images\n",
        "cv2.imshow('Matched Images', img3)\n",
        "cv2.waitKey(0)\n",
        "cv2.destroyAllWindows()\n"
      ]
    },
    {
      "cell_type": "code",
      "execution_count": null,
      "metadata": {
        "id": "Yx7goA65UEeM"
      },
      "outputs": [],
      "source": [
        "from google.colab.patches import cv2_imshow"
      ]
    },
    {
      "cell_type": "code",
      "execution_count": null,
      "metadata": {
        "id": "IoZTFqbbSu89"
      },
      "outputs": [],
      "source": [
        "# Read the two images\n",
        "img1 = cv2.imread('/content/1709200300564.jpg')\n",
        "img2 = cv2.imread('/content/1709200300596.jpg')\n",
        "\n",
        "# Convert the images to grayscale\n",
        "gray1 = cv2.cvtColor(img1, cv2.COLOR_BGR2GRAY)\n",
        "gray2 = cv2.cvtColor(img2, cv2.COLOR_BGR2GRAY)\n"
      ]
    },
    {
      "cell_type": "code",
      "execution_count": null,
      "metadata": {
        "id": "gKhWEzNITVCF"
      },
      "outputs": [],
      "source": [
        "# Initialize the SIFT feature extractor\n",
        "sift = cv2.SIFT_create()\n",
        "\n",
        "# Detect and extract features from the first image\n",
        "kp1, des1 = sift.detectAndCompute(gray1, None)\n",
        "\n",
        "# Detect and extract features from the second image\n",
        "kp2, des2 = sift.detectAndCompute(gray2, None)\n"
      ]
    },
    {
      "cell_type": "code",
      "execution_count": null,
      "metadata": {
        "id": "vprHSlB7Tc99"
      },
      "outputs": [],
      "source": [
        "# Match the features between the two images\n",
        "bf = cv2.BFMatcher()\n",
        "matches = bf.knnMatch(des1, des2, k=2)\n"
      ]
    },
    {
      "cell_type": "code",
      "execution_count": null,
      "metadata": {
        "id": "rK32pY1ITiLU"
      },
      "outputs": [],
      "source": [
        "# Sort the matches by their distance\n",
        "good_matches = []\n",
        "for m, n in matches:\n",
        "    if m.distance < 0.75 * n.distance:\n",
        "        good_matches.append(m)"
      ]
    },
    {
      "cell_type": "code",
      "execution_count": null,
      "metadata": {
        "id": "yoTHE-DDT7It"
      },
      "outputs": [],
      "source": [
        "img3 = cv2.drawMatches(img1, kp1, img2, kp2, good_matches, None, flags=cv2.DrawMatchesFlags_NOT_DRAW_SINGLE_POINTS)\n"
      ]
    },
    {
      "cell_type": "code",
      "execution_count": null,
      "metadata": {
        "colab": {
          "background_save": true
        },
        "id": "UVSkfFc0T_cE",
        "outputId": "a5276379-94cd-44d4-9deb-cd5a0afc53d2"
      },
      "outputs": [],
      "source": [
        "# Show the matched images\n",
        "cv2_imshow(img3)\n",
        "cv2.waitKey(0)\n",
        "cv2.destroyAllWindows()"
      ]
    }
  ],
  "metadata": {
    "colab": {
      "provenance": []
    },
    "kernelspec": {
      "display_name": "Python 3",
      "name": "python3"
    },
    "language_info": {
      "name": "python"
    }
  },
  "nbformat": 4,
  "nbformat_minor": 0
}